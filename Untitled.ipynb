{
 "cells": [
  {
   "cell_type": "code",
   "execution_count": 60,
   "id": "04f35c16",
   "metadata": {},
   "outputs": [],
   "source": [
    "epsilon = 1e-12"
   ]
  },
  {
   "cell_type": "code",
   "execution_count": 61,
   "id": "40cb528b",
   "metadata": {},
   "outputs": [],
   "source": [
    "def f(x):\n",
    "    k = 1\n",
    "    new = x\n",
    "    while True:\n",
    "        x = new\n",
    "        new = 2**k * ((1 + x * (2 ** (1 - k))) ** 0.5 - 1)\n",
    "        k += 1\n",
    "        if abs(x - new) < epsilon:\n",
    "            break\n",
    "    return new"
   ]
  },
  {
   "cell_type": "code",
   "execution_count": 62,
   "id": "507eb522",
   "metadata": {},
   "outputs": [],
   "source": [
    "def better_f(x):\n",
    "    k = 1\n",
    "    new = x\n",
    "    while True:\n",
    "        x = new\n",
    "        new = ((4**k + x * (2 ** (1 + k))) ** 0.5 - 2**k)\n",
    "        k += 1\n",
    "        if abs(x - new) < epsilon:\n",
    "            break\n",
    "    return new"
   ]
  },
  {
   "cell_type": "code",
   "execution_count": 63,
   "id": "52d21459",
   "metadata": {},
   "outputs": [],
   "source": [
    "def betterer_f(x):\n",
    "    k = 1\n",
    "    new = x\n",
    "    while True:\n",
    "        x = new\n",
    "        new = (2**(k/2)) * ((2**k + x * 2) ** 0.5) - 2**k\n",
    "        k += 1\n",
    "        if abs(x - new) < epsilon:\n",
    "            break\n",
    "    return new"
   ]
  },
  {
   "cell_type": "code",
   "execution_count": 64,
   "id": "6d36a6ef",
   "metadata": {},
   "outputs": [
    {
     "name": "stdout",
     "output_type": "stream",
     "text": [
      "4.448617212382544e-07\n",
      "4.448617212382544e-07\n",
      "3.1975436964870596e-08\n"
     ]
    }
   ],
   "source": [
    "wyn = 2.3025850929940456 # ln(9 + 1)\n",
    "print(abs(f(9) - wyn))\n",
    "print(abs(better_f(9) - wyn))\n",
    "print(abs(betterer_f(9) - wyn))"
   ]
  },
  {
   "cell_type": "code",
   "execution_count": 65,
   "id": "66982513",
   "metadata": {},
   "outputs": [
    {
     "name": "stdout",
     "output_type": "stream",
     "text": [
      "4.570030704975636e-07\n",
      "4.570030704975636e-07\n",
      "1.9834087705561387e-08\n"
     ]
    }
   ],
   "source": [
    "wyn = 1.0986122886681096 # ln(2 + 1)\n",
    "print(abs(f(2) - wyn))\n",
    "print(abs(better_f(2) - wyn))\n",
    "print(abs(betterer_f(2) - wyn))"
   ]
  },
  {
   "cell_type": "code",
   "execution_count": 66,
   "id": "31df8d6c",
   "metadata": {},
   "outputs": [
    {
     "name": "stdout",
     "output_type": "stream",
     "text": [
      "8.897234424765088e-07\n",
      "8.897234424765088e-07\n",
      "6.395087392974119e-08\n"
     ]
    }
   ],
   "source": [
    "wyn = 4.6051701859880913 # ln(99 + 1)\n",
    "print(abs(f(99) - wyn))\n",
    "print(abs(better_f(99) - wyn))\n",
    "print(abs(betterer_f(99) - wyn))"
   ]
  },
  {
   "cell_type": "code",
   "execution_count": 67,
   "id": "52aab7a2",
   "metadata": {},
   "outputs": [
    {
     "name": "stdout",
     "output_type": "stream",
     "text": [
      "9.592631045052258e-08\n",
      "9.592631045052258e-08\n",
      "9.592631045052258e-08\n"
     ]
    }
   ],
   "source": [
    "wyn = 6.9077552789821370 # ln(999 + 1)\n",
    "print(abs(f(999) - wyn))\n",
    "print(abs(better_f(999) - wyn))\n",
    "print(abs(betterer_f(999) - wyn))"
   ]
  },
  {
   "cell_type": "code",
   "execution_count": 68,
   "id": "c3f2d923",
   "metadata": {},
   "outputs": [
    {
     "name": "stdout",
     "output_type": "stream",
     "text": [
      "1.3264967013704165e-08\n",
      "1.3264967013704165e-08\n",
      "2.816612820755182e-08\n"
     ]
    }
   ],
   "source": [
    "wyn = 0.9162907318741550 # ln(1.5 + 1)\n",
    "print(abs(f(1.5) - wyn))\n",
    "print(abs(better_f(1.5) - wyn))\n",
    "print(abs(betterer_f(1.5) - wyn))"
   ]
  },
  {
   "cell_type": "code",
   "execution_count": 69,
   "id": "2f9613f9",
   "metadata": {},
   "outputs": [
    {
     "name": "stdout",
     "output_type": "stream",
     "text": [
      "6.056544266108688e-09\n",
      "6.056544266108688e-09\n",
      "6.056544266108688e-09\n"
     ]
    }
   ],
   "source": [
    "wyn = 0.8109302162163287 # ln(1.25 + 1)\n",
    "print(abs(f(1.25) - wyn))\n",
    "print(abs(better_f(1.25) - wyn))\n",
    "print(abs(betterer_f(1.25) - wyn))"
   ]
  },
  {
   "cell_type": "code",
   "execution_count": 70,
   "id": "a1d41e26",
   "metadata": {},
   "outputs": [
    {
     "name": "stdout",
     "output_type": "stream",
     "text": [
      "1.7455142886646513e-09\n",
      "1.7455142886646513e-09\n",
      "1.3155646905183005e-08\n"
     ]
    }
   ],
   "source": [
    "wyn = 0.6981347220709843 # ln(1.01 + 1)\n",
    "print(abs(f(1.01) - wyn))\n",
    "print(abs(better_f(1.01) - wyn))\n",
    "print(abs(betterer_f(1.01) - wyn))"
   ]
  },
  {
   "cell_type": "code",
   "execution_count": null,
   "id": "afd2d042",
   "metadata": {},
   "outputs": [],
   "source": []
  }
 ],
 "metadata": {
  "kernelspec": {
   "display_name": "Python 3",
   "language": "python",
   "name": "python3"
  },
  "language_info": {
   "codemirror_mode": {
    "name": "ipython",
    "version": 3
   },
   "file_extension": ".py",
   "mimetype": "text/x-python",
   "name": "python",
   "nbconvert_exporter": "python",
   "pygments_lexer": "ipython3",
   "version": "3.8.8"
  }
 },
 "nbformat": 4,
 "nbformat_minor": 5
}
