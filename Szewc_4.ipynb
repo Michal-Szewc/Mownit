{
 "cells": [
  {
   "cell_type": "code",
   "execution_count": 4,
   "id": "b6cd86e3",
   "metadata": {},
   "outputs": [],
   "source": [
    "import numpy as np\n",
    "import math\n",
    "import matplotlib.pyplot as plt\n",
    "import sys"
   ]
  },
  {
   "cell_type": "code",
   "execution_count": 5,
   "id": "69f815fc",
   "metadata": {},
   "outputs": [],
   "source": [
    "def get_val(wsp, x):\n",
    "    val = 0\n",
    "    for i, elem in enumerate(wsp):\n",
    "        val += elem * x ** i\n",
    "    return val"
   ]
  },
  {
   "cell_type": "code",
   "execution_count": 28,
   "id": "6b576928",
   "metadata": {},
   "outputs": [],
   "source": [
    "def apr(X, Y, x, m):\n",
    "    n = len(X)\n",
    "    \n",
    "    # macierz współczynników układu równań\n",
    "    matrix = np.zeros((m + 1,m + 1))\n",
    "    \n",
    "    # macierz wyników układu równań\n",
    "    wyn = np.zeros(m + 1)\n",
    "    \n",
    "    for i in range(m + 1):\n",
    "        for j in range(m + 1):\n",
    "            for val in X:\n",
    "                matrix[i][j] += val ** (i + j)\n",
    "        for k in range(n):\n",
    "            wyn[i] += Y[k] * X[k] ** i\n",
    "        \n",
    "    # współczynniki wielomianów\n",
    "    wsp = np.linalg.solve(matrix,wyn)\n",
    "    \n",
    "    ys = []\n",
    "    for i in range(len(x)):\n",
    "        ys+=[get_val(wsp, x[i])]\n",
    "\n",
    "    return ys"
   ]
  },
  {
   "cell_type": "code",
   "execution_count": 29,
   "id": "fcdf0f69",
   "metadata": {},
   "outputs": [],
   "source": [
    "def cal(a, b, x):\n",
    "    wyn = a[0]/2\n",
    "    for j in range(1,len(a)):\n",
    "        wyn += a[j]*math.cos(j * x) + b[j]*math.sin(j * x)\n",
    "    return wyn"
   ]
  },
  {
   "cell_type": "code",
   "execution_count": 44,
   "id": "33db6d8d",
   "metadata": {},
   "outputs": [],
   "source": [
    "def aprTryg(X, Y, x, m):\n",
    "    n = len(X)\n",
    "    a = np.zeros(m + 1)\n",
    "    b = np.zeros(m + 1)\n",
    "    for i in range(m):\n",
    "        for j in range(n - 1):\n",
    "            a[i] += Y[j]*math.cos(i * X[j])\n",
    "        a[i] *= 2/n\n",
    "        for j in range(n - 1):\n",
    "            b[i] += Y[j]*math.sin(i * X[j])\n",
    "        b[i] *= 2/n\n",
    "    y = []\n",
    "    for val in x:\n",
    "        y += [cal(a,b,val)]\n",
    "    return y"
   ]
  },
  {
   "cell_type": "code",
   "execution_count": 31,
   "id": "6101f46c",
   "metadata": {},
   "outputs": [],
   "source": [
    "def czeb(k):\n",
    "    return [(math.cos((2*j -1)/(2*k) * math.pi) + 1)/2 for j in range(1,k+1)]"
   ]
  },
  {
   "cell_type": "code",
   "execution_count": 32,
   "id": "cb6693dd",
   "metadata": {},
   "outputs": [],
   "source": [
    "def reg(k): # k rowno od 0 do 1\n",
    "    return [x/(k - 1) for x in range(k)]"
   ]
  },
  {
   "cell_type": "code",
   "execution_count": 33,
   "id": "d67065ee",
   "metadata": {},
   "outputs": [],
   "source": [
    "def scale(x,l,p): # z [o,1] a [l,p]\n",
    "    return x * (p-l) + l"
   ]
  },
  {
   "cell_type": "code",
   "execution_count": 34,
   "id": "8cd6c107",
   "metadata": {},
   "outputs": [],
   "source": [
    "def f(x):\n",
    "    k = 1\n",
    "    m = 1\n",
    "    return math.sin(m*x)*math.sin(k*x**2/math.pi)"
   ]
  },
  {
   "cell_type": "code",
   "execution_count": 35,
   "id": "6e2f4239",
   "metadata": {},
   "outputs": [],
   "source": [
    "def diff(Y_1,Y_2):\n",
    "    diff=0\n",
    "    for i in range(len(Y_2)):\n",
    "        diff = max(diff,abs(Y_1[i]-Y_2[i]))\n",
    "    return diff\n",
    "\n",
    "def error(Y_1,Y_2):\n",
    "    error = 0\n",
    "    for i in range(len(Y_2)):\n",
    "        error += (Y_1[i] - Y_2[i]) ** 2\n",
    "    return error/len(Y_1)"
   ]
  },
  {
   "cell_type": "code",
   "execution_count": 54,
   "id": "d7c555f4",
   "metadata": {},
   "outputs": [],
   "source": [
    "points = 100\n",
    "n = 1000\n",
    "deg = 20"
   ]
  },
  {
   "cell_type": "code",
   "execution_count": 55,
   "id": "cb912d93",
   "metadata": {},
   "outputs": [
    {
     "data": {
      "text/plain": [
       "[<matplotlib.lines.Line2D at 0x262d826a820>]"
      ]
     },
     "execution_count": 55,
     "metadata": {},
     "output_type": "execute_result"
    },
    {
     "data": {
      "image/png": "[encoded data removed]",
      "text/plain": [
       "<Figure size 432x288 with 1 Axes>"
      ]
     },
     "metadata": {
      "needs_background": "light"
     },
     "output_type": "display_data"
    }
   ],
   "source": [
    "f_X = [scale(x,(-2) * math.pi,math.pi) for x in reg(n)]\n",
    "f_Y = [f(x) for x in f_X]\n",
    "\n",
    "plt.plot(f_X,f_Y,'r-')"
   ]
  },
  {
   "cell_type": "code",
   "execution_count": 56,
   "id": "f51e701a",
   "metadata": {},
   "outputs": [
    {
     "name": "stdout",
     "output_type": "stream",
     "text": [
      "Max difference: \n",
      "0.01893837506420265\n",
      "standard error: \n",
      "0.00014114907215879746\n"
     ]
    },
    {
     "data": {
      "text/plain": [
       "[<matplotlib.lines.Line2D at 0x262d82ce850>]"
      ]
     },
     "execution_count": 56,
     "metadata": {},
     "output_type": "execute_result"
    },
    {
     "data": {
      "image/png": "[encoded data removed]",
      "text/plain": [
       "<Figure size 432x288 with 1 Axes>"
      ]
     },
     "metadata": {
      "needs_background": "light"
     },
     "output_type": "display_data"
    }
   ],
   "source": [
    "X = [scale(x,(-2) * math.pi,math.pi) for x in czeb(points)]\n",
    "Y = [f(x) for x in X]\n",
    "X_A = [scale(x,(-2) * math.pi,math.pi) for x in reg(n)]\n",
    "Y_A = apr(X,Y,X_A,deg)\n",
    "\n",
    "print(\"Max difference: \")\n",
    "print(diff(f_Y,Y_A))\n",
    "print(\"standard error: \")\n",
    "print(error(f_Y,Y_A))\n",
    "\n",
    "plt.plot(f_X,f_Y,'r-')\n",
    "plt.plot(X_A,Y_A)\n",
    "plt.plot(X,Y,'o')"
   ]
  },
  {
   "cell_type": "code",
   "execution_count": 60,
   "id": "d2c9efa8",
   "metadata": {},
   "outputs": [
    {
     "name": "stdout",
     "output_type": "stream",
     "text": [
      "Max difference: \n",
      "0.7633114847557981\n",
      "standard error: \n",
      "0.10206565032725978\n"
     ]
    },
    {
     "data": {
      "text/plain": [
       "[<matplotlib.lines.Line2D at 0x262d9413d60>]"
      ]
     },
     "execution_count": 60,
     "metadata": {},
     "output_type": "execute_result"
    },
    {
     "data": {
      "image/png": "[encoded data removed]",
      "text/plain": [
       "<Figure size 432x288 with 1 Axes>"
      ]
     },
     "metadata": {
      "needs_background": "light"
     },
     "output_type": "display_data"
    }
   ],
   "source": [
    "X = [scale(x,(-2) * math.pi,math.pi) for x in reg(points)]\n",
    "Y = [f(x) for x in X]\n",
    "X_A = [scale(x,(-2) * math.pi,math.pi) for x in reg(n)]\n",
    "Y_A = aprTryg(X,Y,X_A,deg)\n",
    "\n",
    "print(\"Max difference: \")\n",
    "print(diff(f_Y,Y_A))\n",
    "print(\"standard error: \")\n",
    "print(error(f_Y,Y_A))\n",
    "\n",
    "plt.plot(f_X,f_Y,'r-')\n",
    "plt.plot(X_A,Y_A)\n",
    "plt.plot(X,Y,'o')"
   ]
  },
  {
   "cell_type": "code",
   "execution_count": null,
   "id": "dfee4f70",
   "metadata": {},
   "outputs": [],
   "source": []
  }
 ],
 "metadata": {
  "kernelspec": {
   "display_name": "Python 3",
   "language": "python",
   "name": "python3"
  },
  "language_info": {
   "codemirror_mode": {
    "name": "ipython",
    "version": 3
   },
   "file_extension": ".py",
   "mimetype": "text/x-python",
   "name": "python",
   "nbconvert_exporter": "python",
   "pygments_lexer": "ipython3",
   "version": "3.8.8"
  }
 },
 "nbformat": 4,
 "nbformat_minor": 5
}
