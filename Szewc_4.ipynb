{
 "cells": [
  {
   "cell_type": "code",
   "execution_count": 1,
   "metadata": {},
   "outputs": [],
   "source": [
    "import numpy as np\n",
    "import math\n",
    "import matplotlib.pyplot as plt\n",
    "import sys"
   ]
  },
  {
   "cell_type": "code",
   "execution_count": 2,
   "metadata": {},
   "outputs": [],
   "source": [
    "def get_val(wsp, x):\n",
    "    val = 0\n",
    "    for i, elem in enumerate(wsp):\n",
    "        val += elem * x ** i\n",
    "    return val"
   ]
  },
  {
   "cell_type": "code",
   "execution_count": 3,
   "metadata": {},
   "outputs": [],
   "source": [
    "def apr(X, Y, x, m):\n",
    "    n = len(X)\n",
    "    \n",
    "    # macierz współczynników układu równań\n",
    "    matrix = np.zeros((m + 1,m + 1))\n",
    "    \n",
    "    # macierz wyników układu równań\n",
    "    wyn = np.zeros(m + 1)\n",
    "    \n",
    "    for i in range(m + 1):\n",
    "        for j in range(m + 1):\n",
    "            for val in X:\n",
    "                matrix[i][j] += val ** (i + j)\n",
    "        for k in range(n):\n",
    "            wyn[i] += Y[k] * X[k] ** i\n",
    "        \n",
    "    # współczynniki wielomianów\n",
    "    wsp = np.linalg.solve(matrix,wyn)\n",
    "    \n",
    "    ys = []\n",
    "    for i in range(len(x)):\n",
    "        ys+=[get_val(wsp, x[i])]\n",
    "\n",
    "    return ys"
   ]
  },
  {
   "cell_type": "code",
   "execution_count": 4,
   "metadata": {},
   "outputs": [],
   "source": [
    "def cal(a, b, x):\n",
    "    wyn = a[0]/2\n",
    "    for j in range(1,len(a)):\n",
    "        wyn += a[j]*math.cos(j * x) + b[j]*math.sin(j * x)\n",
    "    return wyn"
   ]
  },
  {
   "cell_type": "code",
   "execution_count": 60,
   "metadata": {},
   "outputs": [],
   "source": [
    "def aprTryg(X, Y, x, m = -1):\n",
    "    n = len(X)\n",
    "    if m <= 2:\n",
    "        m = (n - 1)//2\n",
    "    a = np.zeros(m + 1)\n",
    "    b = np.zeros(m + 1)\n",
    "    for i in range(m):\n",
    "        for j in range(n - 1):\n",
    "            a[i] += Y[j]*math.cos(i * X[j])\n",
    "        a[i] *= 2/n\n",
    "        for j in range(n - 1):\n",
    "            b[i] += Y[j]*math.sin(i * X[j])\n",
    "        b[i] *= 2/n\n",
    "    y = []\n",
    "    for val in x:\n",
    "        y += [cal(a,b,val)]\n",
    "    return y"
   ]
  },
  {
   "cell_type": "code",
   "execution_count": 6,
   "metadata": {},
   "outputs": [],
   "source": [
    "def czeb(k):\n",
    "    return [(math.cos((2*j -1)/(2*k) * math.pi) + 1)/2 for j in range(1,k+1)]"
   ]
  },
  {
   "cell_type": "code",
   "execution_count": 7,
   "metadata": {},
   "outputs": [],
   "source": [
    "def reg(k): # k rowno od 0 do 1\n",
    "    return [x/(k - 1) for x in range(k)]"
   ]
  },
  {
   "cell_type": "code",
   "execution_count": 17,
   "metadata": {},
   "outputs": [],
   "source": [
    "def scale(T,l,p): # z [o,1] a [l,p]\n",
    "    return [x * (p-l) + l for x in T]\n",
    "\n",
    "def scaleToPi(T, prevl,prevp): # z [prevl, prep] na [-pi,pi]\n",
    "    return [(x - prevl) / (prevp - prevl) * 2 * math.pi - math.pi for x in T]"
   ]
  },
  {
   "cell_type": "code",
   "execution_count": 9,
   "metadata": {},
   "outputs": [],
   "source": [
    "def f(x):\n",
    "    k = 1\n",
    "    m = 1\n",
    "    return math.sin(m*x)*math.sin(k*x**2/math.pi)"
   ]
  },
  {
   "cell_type": "code",
   "execution_count": 54,
   "metadata": {},
   "outputs": [],
   "source": [
    "def diff(Y_1,Y_2):\n",
    "    diff=0\n",
    "    for i in range(len(Y_2)):\n",
    "        diff = max(diff,abs(Y_1[i]-Y_2[i]))\n",
    "    return diff\n",
    "\n",
    "def error(Y_1,Y_2):\n",
    "    error = 0\n",
    "    for i in range(len(Y_2)):\n",
    "        error += (Y_1[i] - Y_2[i]) ** 2\n",
    "    return error/len(Y_1)"
   ]
  },
  {
   "cell_type": "code",
   "execution_count": 55,
   "metadata": {},
   "outputs": [],
   "source": [
    "points = 16\n",
    "n = 3000\n",
    "deg = 8"
   ]
  },
  {
   "cell_type": "code",
   "execution_count": 56,
   "metadata": {},
   "outputs": [
    {
     "data": {
      "text/plain": [
       "[<matplotlib.lines.Line2D at 0x7f67bfb07820>]"
      ]
     },
     "execution_count": 56,
     "metadata": {},
     "output_type": "execute_result"
    },
    {
     "data": {
      "image/png": "[encoded data removed]",
      "text/plain": [
       "<Figure size 432x288 with 1 Axes>"
      ]
     },
     "metadata": {
      "needs_background": "light"
     },
     "output_type": "display_data"
    }
   ],
   "source": [
    "f_X = scale(reg(n),(-2) * math.pi,math.pi)\n",
    "f_Y = [f(x) for x in f_X]\n",
    "\n",
    "plt.plot(f_X,f_Y,'r-')"
   ]
  },
  {
   "cell_type": "code",
   "execution_count": 68,
   "metadata": {},
   "outputs": [
    {
     "name": "stdout",
     "output_type": "stream",
     "text": [
      "Max difference: \n",
      "0.6989676667979309\n",
      "standard error: \n",
      "0.0754978549198625\n"
     ]
    },
    {
     "data": {
      "text/plain": [
       "[<matplotlib.lines.Line2D at 0x7f67bea259a0>]"
      ]
     },
     "execution_count": 68,
     "metadata": {},
     "output_type": "execute_result"
    },
    {
     "data": {
      "image/png": "[encoded data removed]",
      "text/plain": [
       "<Figure size 432x288 with 1 Axes>"
      ]
     },
     "metadata": {
      "needs_background": "light"
     },
     "output_type": "display_data"
    }
   ],
   "source": [
    "X = scale(czeb(points),(-2) * math.pi,math.pi)\n",
    "Y = [f(x) for x in X]\n",
    "X_A = scale(reg(n),(-2) * math.pi,math.pi)\n",
    "Y_A = apr(X,Y,X_A,deg)\n",
    "\n",
    "print(\"Max difference: \")\n",
    "print(diff(f_Y,Y_A))\n",
    "print(\"standard error: \")\n",
    "print(error(f_Y,Y_A))\n",
    "\n",
    "plt.plot(f_X,f_Y,'r-')\n",
    "plt.plot(X_A,Y_A)\n",
    "plt.plot(X,Y,'o')"
   ]
  },
  {
   "cell_type": "code",
   "execution_count": 69,
   "metadata": {},
   "outputs": [
    {
     "name": "stdout",
     "output_type": "stream",
     "text": [
      "Max difference: \n",
      "0.21845302128017863\n",
      "standard error: \n",
      "0.007068752550187527\n"
     ]
    },
    {
     "data": {
      "text/plain": [
       "[<matplotlib.lines.Line2D at 0x7f67be98ff10>]"
      ]
     },
     "execution_count": 69,
     "metadata": {},
     "output_type": "execute_result"
    },
    {
     "data": {
      "image/png": "[encoded data removed]",
      "text/plain": [
       "<Figure size 432x288 with 1 Axes>"
      ]
     },
     "metadata": {
      "needs_background": "light"
     },
     "output_type": "display_data"
    }
   ],
   "source": [
    "X = scale(reg(points),(-2) * math.pi,math.pi)\n",
    "Y = [f(x) for x in X]\n",
    "X_A = scale(reg(n),(-2) * math.pi,math.pi)\n",
    "Y_A = aprTryg(scaleToPi(X, (-2) * math.pi,math.pi),Y,scaleToPi(X_A, (-2) * math.pi,math.pi))\n",
    "\n",
    "print(\"Max difference: \")\n",
    "print(diff(f_Y,Y_A))\n",
    "print(\"standard error: \")\n",
    "print(error(f_Y,Y_A))\n",
    "\n",
    "plt.plot(f_X,f_Y,'r-')\n",
    "plt.plot(X_A,Y_A)\n",
    "plt.plot(X,Y,'o')"
   ]
  },
  {
   "cell_type": "code",
   "execution_count": 62,
   "metadata": {},
   "outputs": [],
   "source": [
    "def differror(name,X,Y,f_X,f_Y,deg = -1):\n",
    "    if name == \"tryg\":\n",
    "        Y_A = aprTryg(scaleToPi(X, (-2) * math.pi,math.pi),Y,scaleToPi(f_X, (-2) * math.pi,math.pi))\n",
    "\n",
    "        print(\"Max difference: \",end=\"\")\n",
    "        print(diff(f_Y,Y_A))\n",
    "        print(\"standard error: \",end=\"\")\n",
    "        print(error(f_Y,Y_A))\n",
    "    else:\n",
    "        if deg < 2:\n",
    "            deg = len(X)//2\n",
    "        Y_A = apr(X,Y,f_X,deg)\n",
    "\n",
    "        print(\"Max difference: \",end=\"\")\n",
    "        print(diff(f_Y,Y_A))\n",
    "        print(\"standard error: \",end=\"\")\n",
    "        print(error(f_Y,Y_A))"
   ]
  },
  {
   "cell_type": "code",
   "execution_count": 63,
   "metadata": {},
   "outputs": [
    {
     "name": "stdout",
     "output_type": "stream",
     "text": [
      "number of points:3\n",
      "Max difference: 1.3497729279046604\n",
      "standard error: 0.4484994809010939\n",
      "number of points:4\n",
      "Max difference: 0.9706681448431346\n",
      "standard error: 0.24901525159303112\n",
      "number of points:5\n",
      "Max difference: 0.9952622688677675\n",
      "standard error: 0.20951917648678525\n",
      "number of points:7\n",
      "Max difference: 1.3167333303663624\n",
      "standard error: 0.16330244113438896\n",
      "number of points:10\n",
      "Max difference: 2.2907417808424917\n",
      "standard error: 0.505770596131538\n",
      "number of points:15\n",
      "Max difference: 0.7159919869016953\n",
      "standard error: 0.07597810873225896\n",
      "number of points:20\n",
      "Max difference: 0.6935551544373565\n",
      "standard error: 0.07469901864503883\n",
      "number of points:30\n",
      "Max difference: 0.6834136882283438\n",
      "standard error: 0.07440158061121989\n",
      "number of points:50\n",
      "Max difference: 0.6811267671982323\n",
      "standard error: 0.07431821883777434\n",
      "number of points:100\n",
      "Max difference: 0.6803898306096977\n",
      "standard error: 0.07425756085907707\n"
     ]
    }
   ],
   "source": [
    "X_A = scale(reg(n),(-2) * math.pi,math.pi)\n",
    "deg = 8\n",
    "for i in [3,4,5,7,10,15,20,30,50,100]:\n",
    "    X = scale(reg(i),(-2) * math.pi,math.pi)\n",
    "    Y = [f(x) for x in X]\n",
    "    print(\"number of points:\",end=\"\")\n",
    "    print(i)\n",
    "    differror(\"pol\",X,Y,X_A,f_Y,deg)"
   ]
  },
  {
   "cell_type": "code",
   "execution_count": 64,
   "metadata": {},
   "outputs": [
    {
     "name": "stdout",
     "output_type": "stream",
     "text": [
      "number of points:3\n",
      "Max difference: 1.2063704052386504\n",
      "standard error: 0.29934192958771755\n",
      "number of points:4\n",
      "Max difference: 0.9706681448431346\n",
      "standard error: 0.24901525159303112\n",
      "number of points:5\n",
      "Max difference: 1.308764297776189\n",
      "standard error: 0.19723906188953252\n",
      "number of points:7\n",
      "Max difference: 1.2262574609100487\n",
      "standard error: 0.18060447153849027\n",
      "number of points:10\n",
      "Max difference: 0.9250809908879237\n",
      "standard error: 0.1138099890841455\n",
      "number of points:15\n",
      "Max difference: 0.20850419885395494\n",
      "standard error: 0.007950856716138231\n",
      "number of points:20\n",
      "Max difference: 0.09770578665005525\n",
      "standard error: 0.0014332158391275618\n",
      "number of points:30\n",
      "Max difference: 0.03379832536503946\n",
      "standard error: 0.0003130580999083367\n",
      "number of points:50\n",
      "Max difference: 0.01951325973378204\n",
      "standard error: 0.00010143031768421808\n",
      "number of points:100\n",
      "Max difference: 0.009709148870935769\n",
      "standard error: 2.4949318800510545e-05\n"
     ]
    }
   ],
   "source": [
    "X_A = scale(reg(n),(-2) * math.pi,math.pi)\n",
    "for i in [3,4,5,7,10,15,20,30,50,100]:\n",
    "    X = scale(reg(i),(-2) * math.pi,math.pi)\n",
    "    Y = [f(x) for x in X]\n",
    "    print(\"number of points:\",end=\"\")\n",
    "    print(i)\n",
    "    differror(\"tryg\",X,Y,X_A,f_Y)"
   ]
  },
  {
   "cell_type": "code",
   "execution_count": null,
   "metadata": {},
   "outputs": [],
   "source": []
  }
 ],
 "metadata": {
  "kernelspec": {
   "display_name": "Python 3",
   "language": "python",
   "name": "python3"
  },
  "language_info": {
   "codemirror_mode": {
    "name": "ipython",
    "version": 3
   },
   "file_extension": ".py",
   "mimetype": "text/x-python",
   "name": "python",
   "nbconvert_exporter": "python",
   "pygments_lexer": "ipython3",
   "version": "3.9.10"
  }
 },
 "nbformat": 4,
 "nbformat_minor": 5
}
