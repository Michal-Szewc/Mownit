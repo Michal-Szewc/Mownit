{
 "cells": [
  {
   "cell_type": "code",
   "execution_count": 1,
   "metadata": {},
   "outputs": [],
   "source": [
    "import numpy as np\n",
    "import math\n",
    "import sys\n",
    "from tqdm.notebook import tqdm"
   ]
  },
  {
   "cell_type": "code",
   "execution_count": 2,
   "metadata": {},
   "outputs": [],
   "source": [
    "epsilon = 1e-18"
   ]
  },
  {
   "cell_type": "code",
   "execution_count": 3,
   "metadata": {},
   "outputs": [],
   "source": [
    "def matrix1(n):\n",
    "    matrix = np.zeros((n,n))\n",
    "    \n",
    "    for j in range(n):\n",
    "        matrix[0][j] = 1\n",
    "        for i in range(1,n):\n",
    "            matrix[i][j] = 1 / (i + j + 1)  # +1, bo i oraz j są indeksowane od 0,\n",
    "                                            # więc trzeba do wzoru dodać do obu 1\n",
    "    X = np.random.choice([-1,1],n)\n",
    "    \n",
    "    return matrix, X, matrix @ X"
   ]
  },
  {
   "cell_type": "code",
   "execution_count": 4,
   "metadata": {},
   "outputs": [],
   "source": [
    "def matrix2(n):\n",
    "    matrix = np.zeros((n,n))\n",
    "    \n",
    "    for i in range(n):\n",
    "        for j in range(i + 1):\n",
    "            matrix[i][j] = 2 * (i + 1) / (j + 1)\n",
    "        for j in range(i + 1, n):\n",
    "            matrix[i][j] = 2 * (j + 1) / (i + 1)\n",
    "        \n",
    "    X = np.random.choice([-1,1],n)\n",
    "    \n",
    "    return matrix, X, matrix @ X"
   ]
  },
  {
   "cell_type": "code",
   "execution_count": 5,
   "metadata": {},
   "outputs": [],
   "source": [
    "def matrix3(n):\n",
    "    # macierz A)\n",
    "    \n",
    "    k = 4\n",
    "    m = 5\n",
    "    \n",
    "    matrix = np.zeros((n,n))\n",
    "    \n",
    "    for i in range(n):\n",
    "        matrix[i][i] = k\n",
    "        if i < n - 1:\n",
    "            matrix[i][i + 1] = 1 / (i + 1 + m)\n",
    "        if i > 0:\n",
    "            matrix[i][i - 1] = k / (i + m + 2)\n",
    "            \n",
    "    X = np.random.choice([-1,1],n)\n",
    "    \n",
    "    return matrix, X, matrix @ X"
   ]
  },
  {
   "cell_type": "code",
   "execution_count": 6,
   "metadata": {},
   "outputs": [],
   "source": [
    "def gauss(A,b,epsilon):\n",
    "    n = b.size\n",
    "    for i in range(n):\n",
    "        a = A[i][i]\n",
    "        for k in range(n):\n",
    "            A[i][k] /= a\n",
    "        b[i]/=a\n",
    "        for j in range(i + 1,n):\n",
    "            a = A[j][i]\n",
    "            if abs(a) < epsilon:\n",
    "                continue\n",
    "            b[j] /= a\n",
    "            for k in range(i,n):\n",
    "                A[j][k] /= a\n",
    "        for j in range(i + 1, n):\n",
    "            for k in range(i,n):\n",
    "                A[j][k] -= A[i][k]\n",
    "            b[j] -= b[i]\n",
    "    \n",
    "    for i in range(n - 1, -2, -1):\n",
    "        for j in range(i):\n",
    "            b[j] -= A[j][i] * b[i]\n",
    "            A[j][i] = 0\n",
    "            \n",
    "    return b"
   ]
  },
  {
   "cell_type": "code",
   "execution_count": 12,
   "metadata": {},
   "outputs": [
    {
     "name": "stdout",
     "output_type": "stream",
     "text": [
      "[-1 -1  1  1  1  1 -1 -1]\n",
      "[-1.         -1.          1.          1.          0.99999999  1.00000001\n",
      " -1.00000001 -1.        ]\n"
     ]
    }
   ],
   "source": [
    "A,x,B = matrix1(8)\n",
    "\n",
    "print(x)\n",
    "\n",
    "print(gauss(A,B,epsilon))"
   ]
  },
  {
   "cell_type": "code",
   "execution_count": 22,
   "metadata": {},
   "outputs": [
    {
     "name": "stdout",
     "output_type": "stream",
     "text": [
      "[ 1 -1  1 -1  1 -1  1  1 -1 -1 -1  1  1 -1 -1  1 -1 -1  1 -1  1 -1 -1  1\n",
      " -1 -1  1 -1 -1 -1 -1 -1  1 -1  1  1 -1 -1  1  1  1 -1  1  1  1 -1  1  1\n",
      " -1 -1 -1 -1 -1 -1 -1  1  1 -1  1 -1 -1  1 -1  1 -1 -1 -1 -1 -1 -1  1  1\n",
      "  1 -1 -1 -1  1 -1  1 -1  1  1 -1  1 -1  1  1 -1  1 -1  1  1  1 -1  1  1\n",
      "  1 -1  1 -1]\n",
      "[ 1. -1.  1. -1.  1. -1.  1.  1. -1. -1. -1.  1.  1. -1. -1.  1. -1. -1.\n",
      "  1. -1.  1. -1. -1.  1. -1. -1.  1. -1. -1. -1. -1. -1.  1. -1.  1.  1.\n",
      " -1. -1.  1.  1.  1. -1.  1.  1.  1. -1.  1.  1. -1. -1. -1. -1. -1. -1.\n",
      " -1.  1.  1. -1.  1. -1. -1.  1. -1.  1. -1. -1. -1. -1. -1. -1.  1.  1.\n",
      "  1. -1. -1. -1.  1. -1.  1. -1.  1.  1. -1.  1. -1.  1.  1. -1.  1. -1.\n",
      "  1.  1.  1. -1.  1.  1.  1. -1.  1. -1.]\n"
     ]
    }
   ],
   "source": [
    "A,x,B = matrix2(100)\n",
    "\n",
    "print(x)\n",
    "\n",
    "print(gauss(A,B,epsilon))"
   ]
  },
  {
   "cell_type": "code",
   "execution_count": 35,
   "metadata": {},
   "outputs": [
    {
     "name": "stdout",
     "output_type": "stream",
     "text": [
      "[[4.         0.16666667 0.        ]\n",
      " [0.5        4.         0.14285714]\n",
      " [0.         0.44444444 4.        ]]\n",
      "[1 1 1]\n",
      "[0.99962467 1.00900788 0.74909296]\n"
     ]
    }
   ],
   "source": [
    "A,x,B = matrix3(3)\n",
    "\n",
    "print(A)\n",
    "\n",
    "print(x)\n",
    "\n",
    "print(gauss(A,B,epsilon))"
   ]
  },
  {
   "cell_type": "code",
   "execution_count": null,
   "metadata": {},
   "outputs": [],
   "source": []
  }
 ],
 "metadata": {
  "kernelspec": {
   "display_name": "Python 3",
   "language": "python",
   "name": "python3"
  },
  "language_info": {
   "codemirror_mode": {
    "name": "ipython",
    "version": 3
   },
   "file_extension": ".py",
   "mimetype": "text/x-python",
   "name": "python",
   "nbconvert_exporter": "python",
   "pygments_lexer": "ipython3",
   "version": "3.9.12"
  }
 },
 "nbformat": 4,
 "nbformat_minor": 4
}
