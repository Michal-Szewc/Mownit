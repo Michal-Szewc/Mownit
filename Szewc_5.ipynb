{
 "cells": [
  {
   "cell_type": "code",
   "execution_count": 17,
   "metadata": {},
   "outputs": [],
   "source": [
    "import numpy as np\n",
    "import math\n",
    "import matplotlib.pyplot as plt\n",
    "import sys\n",
    "from tqdm.notebook import tqdm"
   ]
  },
  {
   "cell_type": "code",
   "execution_count": 86,
   "metadata": {},
   "outputs": [],
   "source": [
    "epsilon = 1e-18\n",
    "\n",
    "def sieczne(l,p, kryterium):\n",
    "    iterations=0\n",
    "    x0 = l\n",
    "    x1 = p\n",
    "    while(True):\n",
    "        iterations += 1\n",
    "        x = x1 - f(x1)*(x1-x0)/(f(x1)-f(x0))\n",
    "        if f(x) is None or f(x1) is None or x < l  or x > p:\n",
    "            return None, iterations\n",
    "        x1, x0 = x, x1\n",
    "        if abs(f(x)) < epsilon:\n",
    "            break\n",
    "    return x, iterations\n",
    "\n",
    "def newton(l,p,kryterium):\n",
    "    iterations = 0\n",
    "    x = (l + p)/2\n",
    "    while(abs(f(x)) > epsilon):\n",
    "        iterations += 1\n",
    "        prev,x = x,x - f(x)/fp(x)\n",
    "        if f(x) is None or fp(x) is None or x < l or x > p:\n",
    "            return None, iterations\n",
    "        if (kryterium and abs(f(x)) < epsilon) or (not kryterium and abs(x - prev) < epsilon):\n",
    "            break\n",
    "    return x,iterations"
   ]
  },
  {
   "cell_type": "code",
   "execution_count": 87,
   "metadata": {},
   "outputs": [],
   "source": [
    "def czeb(k): # od 0 do 1\n",
    "    return [(math.cos((2*j -1)/(2*k) * math.pi) + 1)/2 for j in range(1,k+1)]"
   ]
  },
  {
   "cell_type": "code",
   "execution_count": 88,
   "metadata": {},
   "outputs": [],
   "source": [
    "def reg(k): # k rowno od 0 do 1\n",
    "    return [x/(k - 1) for x in range(k)]"
   ]
  },
  {
   "cell_type": "code",
   "execution_count": 89,
   "metadata": {},
   "outputs": [],
   "source": [
    "def scale(T,l,p): # z [o,1] a [l,p]\n",
    "    return [x * (p-l) + l for x in T]"
   ]
  },
  {
   "cell_type": "code",
   "execution_count": 90,
   "metadata": {},
   "outputs": [],
   "source": [
    "def f(x):\n",
    "    n=10\n",
    "    m=15\n",
    "    if x < -1.2 or x > 0.8:\n",
    "        return None\n",
    "    return x**n * (1 - x)**m\n",
    "\n",
    "def fp(x):\n",
    "    if x < -2*math.pi or x > math.pi:\n",
    "        return None\n",
    "    return -5*x**9 * (5*x - 2) * (1 - x) ** 14"
   ]
  },
  {
   "cell_type": "code",
   "execution_count": 91,
   "metadata": {},
   "outputs": [],
   "source": [
    "def diff(Y_1,Y_2):\n",
    "    diff=0\n",
    "    for i in range(len(Y_2)):\n",
    "        diff = max(diff,abs(Y_1[i]-Y_2[i]))\n",
    "    return diff\n",
    "\n",
    "def error(Y_1,Y_2):\n",
    "    error = 0\n",
    "    for i in range(len(Y_2)):\n",
    "        error += (Y_1[i] - Y_2[i]) ** 2\n",
    "    return error/len(Y_1)"
   ]
  },
  {
   "cell_type": "code",
   "execution_count": 95,
   "metadata": {},
   "outputs": [],
   "source": [
    "points = 100\n",
    "n = 3000"
   ]
  },
  {
   "cell_type": "code",
   "execution_count": 96,
   "metadata": {},
   "outputs": [
    {
     "data": {
      "text/plain": [
       "[<matplotlib.lines.Line2D at 0x7fbb7de81580>]"
      ]
     },
     "execution_count": 96,
     "metadata": {},
     "output_type": "execute_result"
    },
    {
     "data": {
      "image/png": "[encoded data removed]",
      "text/plain": [
       "<Figure size 432x288 with 1 Axes>"
      ]
     },
     "metadata": {
      "needs_background": "light"
     },
     "output_type": "display_data"
    }
   ],
   "source": [
    "f_X = scale(reg(n),-1.2,0.8)\n",
    "f_Y = [f(x) for x in f_X]\n",
    "\n",
    "plt.plot(f_X,f_Y,'r-')"
   ]
  },
  {
   "cell_type": "code",
   "execution_count": 100,
   "metadata": {},
   "outputs": [
    {
     "name": "stdout",
     "output_type": "stream",
     "text": [
      "average iteration number:1.0\n",
      "ilośc znalezionych miejsc zerowych:0\n",
      "[]\n"
     ]
    },
    {
     "data": {
      "image/png": "[encoded data removed]",
      "text/plain": [
       "<Figure size 432x288 with 1 Axes>"
      ]
     },
     "metadata": {
      "needs_background": "light"
     },
     "output_type": "display_data"
    }
   ],
   "source": [
    "X = scale(reg(points), -1.2, 0.8)\n",
    "wyn = []\n",
    "iterationsSum = 0\n",
    "kryterium = True\n",
    "for i in range(len(X) - 1):\n",
    "    temp = sieczne(X[i],X[i+1],kryterium)\n",
    "    if temp[0] is not None:\n",
    "        wyn += [temp[0]]\n",
    "    iterationsSum += temp[1]\n",
    "\n",
    "X = [x for x in set(wyn)]\n",
    "        \n",
    "Y = [f(x) for x in X]\n",
    "plt.plot(f_X,f_Y,'r-')\n",
    "plt.plot(X,Y,'o')\n",
    "print(\"average iteration number:\", end=\"\")\n",
    "print(iterationsSum/(points - 1))\n",
    "print(\"ilośc znalezionych miejsc zerowych:\", end=\"\")\n",
    "print(len(X))\n",
    "print(X)"
   ]
  },
  {
   "cell_type": "code",
   "execution_count": 98,
   "metadata": {},
   "outputs": [
    {
     "name": "stdout",
     "output_type": "stream",
     "text": [
      "average iteration number:1.121212121212121\n",
      "ilośc znalezionych miejsc zerowych:3\n",
      "[-0.014808766809824372, 0.002020202020202033, 0.016029963100831462]\n"
     ]
    },
    {
     "data": {
      "image/png": "[encoded data removed]",
      "text/plain": [
       "<Figure size 432x288 with 1 Axes>"
      ]
     },
     "metadata": {
      "needs_background": "light"
     },
     "output_type": "display_data"
    }
   ],
   "source": [
    "X = scale(reg(points), -1.2, 0.8)\n",
    "wyn = []\n",
    "iterationsSum = 0\n",
    "kryterium = True\n",
    "for i in range(len(X) - 1):\n",
    "    temp = newton(X[i],X[i+1],kryterium)\n",
    "    if(temp[0] is not None and abs(f(temp[0])) < epsilon):\n",
    "        wyn += [temp[0]]\n",
    "    iterationsSum += temp[1]\n",
    "        \n",
    "X = [x for x in set(wyn)]\n",
    "        \n",
    "Y = [f(x) for x in X]\n",
    "plt.plot(f_X,f_Y,'r-')\n",
    "plt.plot(X,Y,'o')\n",
    "print(\"average iteration number:\", end=\"\")\n",
    "print(iterationsSum/(points - 1))\n",
    "print(\"ilośc znalezionych miejsc zerowych:\", end=\"\")\n",
    "print(len(X))\n",
    "print(X)"
   ]
  },
  {
   "cell_type": "code",
   "execution_count": null,
   "metadata": {},
   "outputs": [],
   "source": []
  }
 ],
 "metadata": {
  "kernelspec": {
   "display_name": "Python 3",
   "language": "python",
   "name": "python3"
  },
  "language_info": {
   "codemirror_mode": {
    "name": "ipython",
    "version": 3
   },
   "file_extension": ".py",
   "mimetype": "text/x-python",
   "name": "python",
   "nbconvert_exporter": "python",
   "pygments_lexer": "ipython3",
   "version": "3.9.12"
  }
 },
 "nbformat": 4,
 "nbformat_minor": 5
}
